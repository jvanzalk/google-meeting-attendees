{
 "cells": [
  {
   "cell_type": "code",
   "execution_count": null,
   "metadata": {},
   "outputs": [],
   "source": [
    "#import packages\n",
    "from apiclient.discovery import build\n",
    "from google_auth_oauthlib.flow import InstalledAppFlow\n",
    "import pickle\n",
    "import pandas as pd\n",
    "import numpy as np"
   ]
  },
  {
   "cell_type": "markdown",
   "metadata": {},
   "source": [
    "## OAuth 2.0 Setup"
   ]
  },
  {
   "cell_type": "code",
   "execution_count": null,
   "metadata": {},
   "outputs": [],
   "source": [
    "##Select scope at https://developers.google.com/calendar/auth. Scopes determine access to calendars\n",
    "#scopes = ['https://www.googleapis.com/auth/calendar']"
   ]
  },
  {
   "cell_type": "code",
   "execution_count": null,
   "metadata": {},
   "outputs": [],
   "source": [
    "##Authorize access to calendar\n",
    "#flow = InstalledAppFlow.from_client_secrets_file(\"client_secret.json\", scopes=scopes)\n",
    "#credentials = flow.run_console()"
   ]
  },
  {
   "cell_type": "code",
   "execution_count": null,
   "metadata": {},
   "outputs": [],
   "source": [
    "##Save credentials so you only have to authorize once \n",
    "#pickle.dump(credentials, open(\"token.pkl\", \"wb\"))"
   ]
  },
  {
   "cell_type": "code",
   "execution_count": null,
   "metadata": {},
   "outputs": [],
   "source": [
    "#Import credentials\n",
    "credentials = pickle.load(open(\"token.pkl\", \"rb\"))"
   ]
  },
  {
   "cell_type": "code",
   "execution_count": null,
   "metadata": {},
   "outputs": [],
   "source": [
    "#\n",
    "service = build(\"calendar\", \"v3\", credentials=credentials)"
   ]
  },
  {
   "cell_type": "markdown",
   "metadata": {},
   "source": [
    "## Get Calendars"
   ]
  },
  {
   "cell_type": "code",
   "execution_count": null,
   "metadata": {},
   "outputs": [],
   "source": [
    "#Query Calendars\n",
    "result = service.calendarList().list().execute()\n",
    "result"
   ]
  },
  {
   "cell_type": "markdown",
   "metadata": {},
   "source": [
    "## Get Calendar Events"
   ]
  },
  {
   "cell_type": "code",
   "execution_count": null,
   "metadata": {},
   "outputs": [],
   "source": [
    "#Query events\n",
    "events = service.events().list(calendarId=\"johnvanzalk@gmail.com\",timeMin=\"2020-06-10T00:00:00Z\").execute()"
   ]
  },
  {
   "cell_type": "code",
   "execution_count": null,
   "metadata": {},
   "outputs": [],
   "source": [
    "#Get all items (events)\n",
    "events = events.get('items', [])\n",
    "events"
   ]
  },
  {
   "cell_type": "code",
   "execution_count": null,
   "metadata": {},
   "outputs": [],
   "source": [
    "#Create empty lists to store event info\n",
    "emails = []\n",
    "statuses = []\n",
    "event_names = []\n",
    "dates = []\n",
    "\n",
    "#Loop through events. If event has certain title, loop though attendees and append values to lists\n",
    "for event in events:\n",
    "    try:\n",
    "        if event['summary'] == 'Birthday Party':\n",
    "            try:\n",
    "                for attendee in event['attendees']:\n",
    "                        \n",
    "                        emails.append(attendee['email'])\n",
    "                        statuses.append(attendee['responseStatus'])\n",
    "                        event_names.append(event['summary'])\n",
    "                        dates.append(event['start']['dateTime'])\n",
    "                        \n",
    "            except: \n",
    "                pass\n",
    "    except:\n",
    "        pass"
   ]
  },
  {
   "cell_type": "code",
   "execution_count": null,
   "metadata": {},
   "outputs": [],
   "source": [
    "#Combine lists in to dataframe\n",
    "attendees = pd.DataFrame(\n",
    "    {'email': emails,\n",
    "     'status': statuses,\n",
    "     'event': event_names,\n",
    "     'date': dates\n",
    "    })\n",
    "\n",
    "attendees.head()"
   ]
  },
  {
   "cell_type": "code",
   "execution_count": null,
   "metadata": {},
   "outputs": [],
   "source": [
    "#Filter attendees that did not accept meeting invite\n",
    "attendees = attendees[attendees['status']=='accepted']"
   ]
  },
  {
   "cell_type": "code",
   "execution_count": null,
   "metadata": {},
   "outputs": [],
   "source": [
    "#Convert datetime to just date\n",
    "attendees['date'] = pd.to_datetime(attendees['date'])\n",
    "attendees['date'] = attendees['date'].dt.date\n",
    "attendees.head()"
   ]
  }
 ],
 "metadata": {
  "kernelspec": {
   "display_name": "Python 3",
   "language": "python",
   "name": "python3"
  },
  "language_info": {
   "codemirror_mode": {
    "name": "ipython",
    "version": 3
   },
   "file_extension": ".py",
   "mimetype": "text/x-python",
   "name": "python",
   "nbconvert_exporter": "python",
   "pygments_lexer": "ipython3",
   "version": "3.6.9"
  }
 },
 "nbformat": 4,
 "nbformat_minor": 4
}
